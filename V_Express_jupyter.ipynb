{
  "cells": [
    {
      "cell_type": "markdown",
      "metadata": {
        "id": "view-in-github"
      },
      "source": [
        "[![Open In Colab](https://colab.research.google.com/assets/colab-badge.svg)](https://colab.research.google.com/github/camenduru/V-Express-jupyter/blob/main/V_Express_jupyter.ipynb)"
      ]
    },
    {
      "cell_type": "code",
      "execution_count": null,
      "metadata": {
        "id": "VjYy0F2gZIPR"
      },
      "outputs": [],
      "source": [
        "%cd /content\n",
        "!git clone -b dev https://github.com/camenduru/V-Express\n",
        "%cd /content/V-Express\n",
        "\n",
        "!apt -y install -qq aria2\n",
        "\n",
        "!aria2c --console-log-level=error -c -x 16 -s 16 -k 1M https://huggingface.co/camenduru/V-Express/resolve/main/insightface_models/models/buffalo_l/1k3d68.onnx -d /content/V-Express/model_ckpts/insightface_models/models/buffalo_l -o 1k3d68.onnx\n",
        "!aria2c --console-log-level=error -c -x 16 -s 16 -k 1M https://huggingface.co/camenduru/V-Express/resolve/main/insightface_models/models/buffalo_l/2d106det.onnx -d /content/V-Express/model_ckpts/insightface_models/models/buffalo_l -o 2d106det.onnx\n",
        "!aria2c --console-log-level=error -c -x 16 -s 16 -k 1M https://huggingface.co/camenduru/V-Express/resolve/main/insightface_models/models/buffalo_l/det_10g.onnx -d /content/V-Express/model_ckpts/insightface_models/models/buffalo_l -o det_10g.onnx\n",
        "!aria2c --console-log-level=error -c -x 16 -s 16 -k 1M https://huggingface.co/camenduru/V-Express/resolve/main/insightface_models/models/buffalo_l/genderage.onnx -d /content/V-Express/model_ckpts/insightface_models/models/buffalo_l -o genderage.onnx\n",
        "!aria2c --console-log-level=error -c -x 16 -s 16 -k 1M https://huggingface.co/camenduru/V-Express/resolve/main/insightface_models/models/buffalo_l/w600k_r50.onnx -d /content/V-Express/model_ckpts/insightface_models/models/buffalo_l -o w600k_r50.onnx\n",
        "\n",
        "!aria2c --console-log-level=error -c -x 16 -s 16 -k 1M https://huggingface.co/camenduru/V-Express/raw/main/sd-vae-ft-mse/config.json -d /content/V-Express/model_ckpts/sd-vae-ft-mse -o config.json\n",
        "!aria2c --console-log-level=error -c -x 16 -s 16 -k 1M https://huggingface.co/camenduru/V-Express/resolve/main/sd-vae-ft-mse/diffusion_pytorch_model.bin -d /content/V-Express/model_ckpts/sd-vae-ft-mse -o diffusion_pytorch_model.bin\n",
        "\n",
        "!aria2c --console-log-level=error -c -x 16 -s 16 -k 1M https://huggingface.co/camenduru/V-Express/raw/main/stable-diffusion-v1-5/unet/config.json -d /content/V-Express/model_ckpts/stable-diffusion-v1-5/unet -o config.json\n",
        "\n",
        "!aria2c --console-log-level=error -c -x 16 -s 16 -k 1M https://huggingface.co/camenduru/V-Express/resolve/main/v-express/audio_projection.pth -d /content/V-Express/model_ckpts/v-express -o audio_projection.pth\n",
        "!aria2c --console-log-level=error -c -x 16 -s 16 -k 1M https://huggingface.co/camenduru/V-Express/resolve/main/v-express/denoising_unet.pth -d /content/V-Express/model_ckpts/v-express -o denoising_unet.pth\n",
        "!aria2c --console-log-level=error -c -x 16 -s 16 -k 1M https://huggingface.co/camenduru/V-Express/resolve/main/v-express/motion_module.pth -d /content/V-Express/model_ckpts/v-express -o motion_module.pth\n",
        "!aria2c --console-log-level=error -c -x 16 -s 16 -k 1M https://huggingface.co/camenduru/V-Express/resolve/main/v-express/reference_net.pth -d /content/V-Express/model_ckpts/v-express -o reference_net.pth\n",
        "!aria2c --console-log-level=error -c -x 16 -s 16 -k 1M https://huggingface.co/camenduru/V-Express/resolve/main/v-express/v_kps_guider.pth -d /content/V-Express/model_ckpts/v-express -o v_kps_guider.pth\n",
        "\n",
        "!aria2c --console-log-level=error -c -x 16 -s 16 -k 1M https://huggingface.co/camenduru/V-Express/raw/main/wav2vec2-base-960h/config.json -d /content/V-Express/model_ckpts/wav2vec2-base-960h -o config.json\n",
        "!aria2c --console-log-level=error -c -x 16 -s 16 -k 1M https://huggingface.co/camenduru/V-Express/raw/main/wav2vec2-base-960h/feature_extractor_config.json -d /content/V-Express/model_ckpts/wav2vec2-base-960h -o feature_extractor_config.json\n",
        "!aria2c --console-log-level=error -c -x 16 -s 16 -k 1M https://huggingface.co/camenduru/V-Express/raw/main/wav2vec2-base-960h/preprocessor_config.json -d /content/V-Express/model_ckpts/wav2vec2-base-960h -o preprocessor_config.json\n",
        "!aria2c --console-log-level=error -c -x 16 -s 16 -k 1M https://huggingface.co/camenduru/V-Express/resolve/main/wav2vec2-base-960h/pytorch_model.bin -d /content/V-Express/model_ckpts/wav2vec2-base-960h -o pytorch_model.bin\n",
        "!aria2c --console-log-level=error -c -x 16 -s 16 -k 1M https://huggingface.co/camenduru/V-Express/raw/main/wav2vec2-base-960h/special_tokens_map.json -d /content/V-Express/model_ckpts/wav2vec2-base-960h -o special_tokens_map.json\n",
        "!aria2c --console-log-level=error -c -x 16 -s 16 -k 1M https://huggingface.co/camenduru/V-Express/raw/main/wav2vec2-base-960h/tokenizer_config.json -d /content/V-Express/model_ckpts/wav2vec2-base-960h -o tokenizer_config.json\n",
        "!aria2c --console-log-level=error -c -x 16 -s 16 -k 1M https://huggingface.co/camenduru/V-Express/raw/main/wav2vec2-base-960h/vocab.json -d /content/V-Express/model_ckpts/wav2vec2-base-960h -o vocab.json\n",
        "\n",
        "!pip install diffusers==0.24.0 imageio-ffmpeg==0.4.9 insightface==0.7.3 omegaconf==2.2.3 onnxruntime==1.16.3 safetensors==0.4.2 transformers==4.30.2 einops==0.4.1 tqdm==4.66.1 xformers==0.0.26.post1 av accelerate"
      ]
    },
    {
      "cell_type": "code",
      "execution_count": null,
      "metadata": {},
      "outputs": [],
      "source": [
        "!python scripts/extract_kps_sequence_and_audio.py \\\n",
        "    --video_path \"./test_samples/short_case/10/gt.mp4\" \\\n",
        "    --kps_sequence_save_path \"./test_samples/short_case/10/kps.pth\" \\\n",
        "    --audio_save_path \"./test_samples/short_case/10/aud.mp3\""
      ]
    },
    {
      "cell_type": "code",
      "execution_count": null,
      "metadata": {},
      "outputs": [],
      "source": [
        "!python inference.py \\\n",
        "    --reference_image_path \"./test_samples/short_case/10/ref.jpg\" \\\n",
        "    --audio_path \"./test_samples/short_case/10/aud.mp3\" \\\n",
        "    --kps_path \"./test_samples/short_case/10/kps.pth\" \\\n",
        "    --output_path \"./output/short_case/talk_10_no_retarget.mp4\" \\\n",
        "    --retarget_strategy \"no_retarget\" \\\n",
        "    --num_inference_steps 25"
      ]
    },
    {
      "cell_type": "code",
      "execution_count": null,
      "metadata": {},
      "outputs": [],
      "source": [
        "!python inference.py \\\n",
        "    --reference_image_path \"./test_samples/short_case/tys/ref.jpg\" \\\n",
        "    --audio_path \"./test_samples/short_case/tys/aud.mp3\" \\\n",
        "    --output_path \"./output/short_case/talk_tys_fix_face.mp4\" \\\n",
        "    --retarget_strategy \"fix_face\" \\\n",
        "    --num_inference_steps 25"
      ]
    },
    {
      "cell_type": "code",
      "execution_count": null,
      "metadata": {},
      "outputs": [],
      "source": [
        "!python inference.py \\\n",
        "    --reference_image_path \"./test_samples/short_case/tys/ref.jpg\" \\\n",
        "    --audio_path \"./test_samples/short_case/tys/aud.mp3\" \\\n",
        "    --kps_path \"./test_samples/short_case/tys/kps.pth\" \\\n",
        "    --output_path \"./output/short_case/talk_tys_offset_retarget.mp4\" \\\n",
        "    --retarget_strategy \"offset_retarget\" \\\n",
        "    --num_inference_steps 25"
      ]
    },
    {
      "cell_type": "code",
      "execution_count": null,
      "metadata": {},
      "outputs": [],
      "source": [
        "!python inference.py \\\n",
        "    --reference_image_path \"./test_samples/short_case/tys/ref.jpg\" \\\n",
        "    --audio_path \"./test_samples/short_case/tys/aud.mp3\" \\\n",
        "    --kps_path \"./test_samples/short_case/tys/kps.pth\" \\\n",
        "    --output_path \"./output/short_case/talk_tys_naive_retarget.mp4\" \\\n",
        "    --retarget_strategy \"naive_retarget\" \\\n",
        "    --num_inference_steps 25"
      ]
    },
    {
      "cell_type": "code",
      "execution_count": null,
      "metadata": {},
      "outputs": [],
      "source": [
        "!python inference.py \\\n",
        "    --reference_image_path \"./test_samples/short_case/10/ref.jpg\" \\\n",
        "    --audio_path \"./test_samples/short_case/10/aud.mp3\" \\\n",
        "    --output_path \"./output/short_case/talk_10_fix_face_with_weight.mp4\" \\\n",
        "    --retarget_strategy \"fix_face\" \\\n",
        "    --reference_attention_weight 0.95 \\\n",
        "    --audio_attention_weight 3.0"
      ]
    }
  ],
  "metadata": {
    "accelerator": "GPU",
    "colab": {
      "gpuType": "T4",
      "provenance": []
    },
    "kernelspec": {
      "display_name": "Python 3",
      "name": "python3"
    },
    "language_info": {
      "name": "python"
    }
  },
  "nbformat": 4,
  "nbformat_minor": 0
}
